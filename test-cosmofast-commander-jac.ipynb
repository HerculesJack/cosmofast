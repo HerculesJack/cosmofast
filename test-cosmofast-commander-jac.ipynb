{
 "cells": [
  {
   "cell_type": "code",
   "execution_count": 3,
   "metadata": {},
   "outputs": [],
   "source": [
    "import cosmofast as cf\n",
    "import numpy as np\n",
    "foo = np.load('cosmofast/planck_18/data/commander.npz')\n",
    "test = np.load(\"cosmofast/tests/test_commander.npz\")\n",
    "foo = np.load('cosmofast/planck_18/data/commander.npz')\n",
    "test = np.load(\"cosmofast/tests/test_commander.npz\")"
   ]
  },
  {
   "cell_type": "code",
   "execution_count": 4,
   "metadata": {},
   "outputs": [],
   "source": [
    "cl2x = foo['cl2x']\n",
    "mu = foo['mu']\n",
    "cov = foo['cov']\n",
    "cov_inv = np.linalg.inv(cov)\n",
    "offset = foo['offset']"
   ]
  },
  {
   "cell_type": "code",
   "execution_count": 6,
   "metadata": {},
   "outputs": [
    {
     "data": {
      "text/plain": [
       "(array([-11.5889457]), array([-11.58894468]))"
      ]
     },
     "execution_count": 6,
     "metadata": {},
     "output_type": "execute_result"
    }
   ],
   "source": [
    "test_f = np.empty(1)\n",
    "cf.planck_18._commander._commander_f(\n",
    "    test['test_param'][2:30], test['test_param'][30], test_f, cl2x, mu, cov_inv)\n",
    "test_f - offset, test['test_value']"
   ]
  },
  {
   "cell_type": "code",
   "execution_count": 8,
   "metadata": {},
   "outputs": [
    {
     "data": {
      "text/plain": [
       "array([[-1.82601744e-03, -2.15338306e-04, -3.72038578e-03,\n",
       "         2.11431073e-02, -1.64171869e-02,  2.83200456e-02,\n",
       "        -2.86416040e-02, -2.10838882e-02, -1.58604467e-03,\n",
       "         1.93121620e-02, -2.58853990e-02, -1.14568505e-01,\n",
       "        -1.98857368e-02,  1.29311302e-01, -1.97595189e-01,\n",
       "         1.61822208e-01, -2.34213521e-01,  7.17711206e-02,\n",
       "        -3.53727698e-01, -4.84020132e-01, -6.03975529e-01,\n",
       "        -3.63066927e-01, -2.30973671e-01, -4.36055769e-01,\n",
       "        -3.92852847e-01, -3.41070415e-02,  3.88183675e-01,\n",
       "        -1.29018264e-01,  7.32470011e+01]])"
      ]
     },
     "execution_count": 8,
     "metadata": {},
     "output_type": "execute_result"
    }
   ],
   "source": [
    "test_j = np.empty((1, 29))\n",
    "cf.planck_18._commander._commander_j(\n",
    "    test['test_param'][2:30], test['test_param'][30], test_j, cl2x, mu, cov_inv)\n",
    "test_j"
   ]
  },
  {
   "cell_type": "code",
   "execution_count": 10,
   "metadata": {},
   "outputs": [
    {
     "data": {
      "text/plain": [
       "(array([-11.5889457]),\n",
       " array([[-1.82601744e-03, -2.15338306e-04, -3.72038578e-03,\n",
       "          2.11431073e-02, -1.64171869e-02,  2.83200456e-02,\n",
       "         -2.86416040e-02, -2.10838882e-02, -1.58604467e-03,\n",
       "          1.93121620e-02, -2.58853990e-02, -1.14568505e-01,\n",
       "         -1.98857368e-02,  1.29311302e-01, -1.97595189e-01,\n",
       "          1.61822208e-01, -2.34213521e-01,  7.17711206e-02,\n",
       "         -3.53727698e-01, -4.84020132e-01, -6.03975529e-01,\n",
       "         -3.63066927e-01, -2.30973671e-01, -4.36055769e-01,\n",
       "         -3.92852847e-01, -3.41070415e-02,  3.88183675e-01,\n",
       "         -1.29018264e-01,  7.32470011e+01]]))"
      ]
     },
     "execution_count": 10,
     "metadata": {},
     "output_type": "execute_result"
    }
   ],
   "source": [
    "test_fjf = np.empty(1)\n",
    "test_fjj = np.empty((1, 29))\n",
    "cf.planck_18._commander._commander_fj(\n",
    "    test['test_param'][2:30], test['test_param'][30], test_fjf, test_fjj, cl2x,\n",
    "    mu, cov_inv)\n",
    "test_fjf - offset, test_fjj"
   ]
  },
  {
   "cell_type": "code",
   "execution_count": 12,
   "metadata": {},
   "outputs": [
    {
     "data": {
      "text/plain": [
       "(array([-11.5889457]),\n",
       " array([[-1.82601744e-03, -2.15338306e-04, -3.72038578e-03,\n",
       "          2.11431073e-02, -1.64171869e-02,  2.83200456e-02,\n",
       "         -2.86416040e-02, -2.10838882e-02, -1.58604467e-03,\n",
       "          1.93121620e-02, -2.58853990e-02, -1.14568505e-01,\n",
       "         -1.98857368e-02,  1.29311302e-01, -1.97595189e-01,\n",
       "          1.61822208e-01, -2.34213521e-01,  7.17711206e-02,\n",
       "         -3.53727698e-01, -4.84020132e-01, -6.03975529e-01,\n",
       "         -3.63066927e-01, -2.30973671e-01, -4.36055769e-01,\n",
       "         -3.92852847e-01, -3.41070415e-02,  3.88183675e-01,\n",
       "         -1.29018264e-01,  7.32470011e+01]]))"
      ]
     },
     "execution_count": 12,
     "metadata": {},
     "output_type": "execute_result"
    }
   ],
   "source": [
    "import numdifftools as nd\n",
    "\n",
    "def bf_f(x):\n",
    "    test_f = np.empty(1)\n",
    "    cf.planck_18._commander._commander_f(\n",
    "        x[:-1], x[-1], test_f, cl2x, mu, cov_inv)\n",
    "    return test_f - offset\n",
    "\n",
    "def bf_j(x):\n",
    "    test_j = np.empty((1, 29))\n",
    "    cf.planck_18._commander._commander_j(\n",
    "        x[:-1], x[-1], test_j, cl2x, mu, cov_inv)\n",
    "    return test_j\n",
    "\n",
    "bf_f(test['test_param'][2:]), bf_j(test['test_param'][2:])"
   ]
  },
  {
   "cell_type": "code",
   "execution_count": 15,
   "metadata": {},
   "outputs": [
    {
     "data": {
      "text/plain": [
       "array([-1.82609484e-03, -2.14583908e-04, -3.72040179e-03,  2.11429098e-02,\n",
       "       -1.64178006e-02,  2.83193914e-02, -2.86405568e-02, -2.10846453e-02,\n",
       "       -1.58593140e-03,  1.93125517e-02, -2.58850720e-02, -1.14569332e-01,\n",
       "       -1.98852491e-02,  1.29311673e-01, -1.97596252e-01,  1.61821846e-01,\n",
       "       -2.34213361e-01,  7.17705011e-02, -3.53728071e-01, -4.84018872e-01,\n",
       "       -6.03975540e-01, -3.63067445e-01, -2.30973286e-01, -4.36055816e-01,\n",
       "       -3.92853397e-01, -3.41060515e-02,  3.88185131e-01, -1.29018930e-01,\n",
       "        7.32470004e+01])"
      ]
     },
     "execution_count": 15,
     "metadata": {},
     "output_type": "execute_result"
    }
   ],
   "source": [
    "nd.Gradient(bf_f, step=1e-8)(test['test_param'][2:])"
   ]
  },
  {
   "cell_type": "code",
   "execution_count": null,
   "metadata": {},
   "outputs": [],
   "source": []
  }
 ],
 "metadata": {
  "kernelspec": {
   "display_name": "hejia@cori-2",
   "language": "python",
   "name": "hejia-2"
  },
  "language_info": {
   "codemirror_mode": {
    "name": "ipython",
    "version": 3
   },
   "file_extension": ".py",
   "mimetype": "text/x-python",
   "name": "python",
   "nbconvert_exporter": "python",
   "pygments_lexer": "ipython3",
   "version": "3.6.10"
  }
 },
 "nbformat": 4,
 "nbformat_minor": 4
}
