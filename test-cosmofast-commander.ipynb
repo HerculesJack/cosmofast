{
 "cells": [
  {
   "cell_type": "code",
   "execution_count": 2,
   "metadata": {},
   "outputs": [],
   "source": [
    "import cosmofast as cf\n",
    "from astropy.io import fits\n",
    "import numpy as np\n",
    "foo = fits.open(\"cosmofast/planck_18/data/legacy-commander/sigma.fits\")"
   ]
  },
  {
   "cell_type": "code",
   "execution_count": 4,
   "metadata": {},
   "outputs": [
    {
     "name": "stdout",
     "output_type": "stream",
     "text": [
      "Filename: cosmofast/planck_2018/data/commander/sigma.fits\n",
      "No.    Name      Ver    Type      Cards   Dimensions   Format\n",
      "  0  PRIMARY       1 PrimaryHDU      19   (1000, 249, 3)   float64   \n",
      "  1                1 ImageHDU         6   (249,)   float64   \n",
      "  2                1 ImageHDU         7   (249, 249)   float64   \n",
      "  3                1 ImageHDU         7   (249,)   float64   \n"
     ]
    }
   ],
   "source": [
    "foo.info()"
   ]
  },
  {
   "cell_type": "code",
   "execution_count": 5,
   "metadata": {},
   "outputs": [
    {
     "data": {
      "text/plain": [
       "(31,)"
      ]
     },
     "execution_count": 5,
     "metadata": {},
     "output_type": "execute_result"
    }
   ],
   "source": [
    "test = np.load(\"cosmofast/tests/test_commander.npz\")\n",
    "test['test_param'].shape"
   ]
  },
  {
   "cell_type": "code",
   "execution_count": 8,
   "metadata": {},
   "outputs": [],
   "source": [
    "cl2x = np.ascontiguousarray(\n",
    "    np.moveaxis(foo[0].data.T[:, :28, :], 0, 2)).byteswap().newbyteorder()\n",
    "mu = foo[1].data[:28].byteswap().newbyteorder()\n",
    "cov = foo[2].data[:28, :28].byteswap().newbyteorder()\n",
    "mu_offset = foo[3].data[:28].byteswap().newbyteorder()\n",
    "cov_inv = np.linalg.inv(cov)"
   ]
  },
  {
   "cell_type": "code",
   "execution_count": 13,
   "metadata": {},
   "outputs": [
    {
     "data": {
      "text/plain": [
       "-155.17039124516077"
      ]
     },
     "execution_count": 13,
     "metadata": {},
     "output_type": "execute_result"
    }
   ],
   "source": [
    "offset = np.empty(1)\n",
    "cf.planck_18._commander._commander_f(\n",
    "    mu_offset * 2 * np.pi / np.arange(2, 30) / (np.arange(2, 30) + 1), 1.0,\n",
    "    offset, cl2x, mu, cov_inv)\n",
    "offset = float(offset)\n",
    "offset"
   ]
  },
  {
   "cell_type": "code",
   "execution_count": 14,
   "metadata": {},
   "outputs": [
    {
     "data": {
      "text/plain": [
       "(array([-11.5889457]), array([-11.58894468]))"
      ]
     },
     "execution_count": 14,
     "metadata": {},
     "output_type": "execute_result"
    }
   ],
   "source": [
    "test_value = np.empty(1)\n",
    "cf.planck_18._commander._commander_f(\n",
    "    test['test_param'][2:30], test['test_param'][30], test_value, cl2x, mu, cov_inv)\n",
    "test_value - offset, test['test_value']"
   ]
  },
  {
   "cell_type": "code",
   "execution_count": 19,
   "metadata": {},
   "outputs": [],
   "source": [
    "np.savez_compressed('cosmofast/planck_18/data/commander.npz',\n",
    "                    cl2x=cl2x, mu=mu, cov=cov, offset=offset)"
   ]
  },
  {
   "cell_type": "code",
   "execution_count": null,
   "metadata": {},
   "outputs": [],
   "source": []
  },
  {
   "cell_type": "code",
   "execution_count": 1,
   "metadata": {},
   "outputs": [],
   "source": [
    "import cosmofast as cf\n",
    "import numpy as npimport cosmofast as cf\n",
    "import numpy as np\n",
    "foo = np.load('cosmofast/planck_18/data/commander.npz')\n",
    "test = np.load(\"cosmofast/tests/test_commander.npz\")\n",
    "foo = np.load('cosmofast/planck_18/data/commander.npz')\n",
    "test = np.load(\"cosmofast/tests/test_commander.npz\")"
   ]
  },
  {
   "cell_type": "code",
   "execution_count": 2,
   "metadata": {},
   "outputs": [],
   "source": [
    "cl2x = foo['cl2x']\n",
    "mu = foo['mu']\n",
    "cov = foo['cov']\n",
    "cov_inv = np.linalg.inv(cov)\n",
    "offset = foo['offset']"
   ]
  },
  {
   "cell_type": "code",
   "execution_count": 3,
   "metadata": {},
   "outputs": [
    {
     "data": {
      "text/plain": [
       "array([-11.5889457])"
      ]
     },
     "execution_count": 3,
     "metadata": {},
     "output_type": "execute_result"
    }
   ],
   "source": [
    "test_value = np.empty(1)\n",
    "cf.planck_18._commander._commander_f(\n",
    "    test['test_param'][2:30], test['test_param'][30], test_value, cl2x, mu, cov_inv)\n",
    "test_value - offset"
   ]
  },
  {
   "cell_type": "code",
   "execution_count": null,
   "metadata": {},
   "outputs": [],
   "source": []
  }
 ],
 "metadata": {
  "kernelspec": {
   "display_name": "hejia@cori-2",
   "language": "python",
   "name": "hejia-2"
  },
  "language_info": {
   "codemirror_mode": {
    "name": "ipython",
    "version": 3
   },
   "file_extension": ".py",
   "mimetype": "text/x-python",
   "name": "python",
   "nbconvert_exporter": "python",
   "pygments_lexer": "ipython3",
   "version": "3.6.10"
  }
 },
 "nbformat": 4,
 "nbformat_minor": 4
}
