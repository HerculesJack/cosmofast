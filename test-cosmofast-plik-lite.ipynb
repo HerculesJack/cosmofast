{
 "cells": [
  {
   "cell_type": "code",
   "execution_count": 14,
   "metadata": {},
   "outputs": [],
   "source": [
    "import cosmofast as cf\n",
    "from astropy.io import fits\n",
    "import numpy as np"
   ]
  },
  {
   "cell_type": "code",
   "execution_count": 15,
   "metadata": {},
   "outputs": [],
   "source": [
    "from scipy.io import FortranFile\n",
    "cov_low = FortranFile(\n",
    "    'cosmofast/planck_18/data/legacy-plik_lite/c_matrix_plik_v22.dat').read_reals().reshape((613, 613))\n",
    "cov = cov_low + cov_low.T - np.diag(np.diag(cov_low))\n",
    "\n",
    "mu = np.loadtxt('cosmofast/planck_18/data/legacy-plik_lite/cl_cmb_plik_v22.dat')[:, 1].copy()\n",
    "blmin = np.loadtxt('cosmofast/planck_18/data/legacy-plik_lite/blmin.dat')\n",
    "blmax = np.loadtxt('cosmofast/planck_18/data/legacy-plik_lite/blmax.dat')\n",
    "bweight = np.loadtxt('cosmofast/planck_18/data/legacy-plik_lite/bweight.dat')\n",
    "\n",
    "weight_t = np.copy(bweight[int(blmin[0]):int(blmax[214] + 1)])\n",
    "weight_e = np.copy(bweight[int(blmin[0]):int(blmax[198] + 1)])\n",
    "\n",
    "low_t = np.copy(blmin[:215]).astype(np.int32)\n",
    "width_t = np.copy((blmax - blmin + 1)[:215]).astype(np.int32)\n",
    "low_e = np.copy(blmin[:199]).astype(np.int32)\n",
    "width_e = np.copy((blmax - blmin + 1)[:199]).astype(np.int32)\n",
    "\n",
    "cov_inv_ttteee = np.linalg.inv(cov)\n",
    "cov_inv_ttteee_low = np.linalg.cholesky(cov_inv_ttteee)\n",
    "mu_ttteee = mu @ cov_inv_ttteee_low"
   ]
  },
  {
   "cell_type": "code",
   "execution_count": 3,
   "metadata": {},
   "outputs": [
    {
     "data": {
      "text/plain": [
       "(7528,)"
      ]
     },
     "execution_count": 3,
     "metadata": {},
     "output_type": "execute_result"
    }
   ],
   "source": [
    "test = np.load(\"cosmofast/tests/test_plik_lite_ttteee.npz\")\n",
    "test['test_param'].shape"
   ]
  },
  {
   "cell_type": "code",
   "execution_count": 4,
   "metadata": {},
   "outputs": [],
   "source": [
    "cls_b = np.empty(613)\n",
    "\n",
    "# power[30:, 0]\n",
    "cf.planck_18._plik_lite._get_binned_cls(\n",
    "    test['test_param'][30:2509], cls_b[:215], weight_t, low_t, width_t, 215)\n",
    "\n",
    "# power[30:, 3]\n",
    "cf.planck_18._plik_lite._get_binned_cls(\n",
    "    test['test_param'][(2509+2509+30):(2509+2509+2509)], cls_b[215:414], weight_e, low_e, width_e, 199)\n",
    "\n",
    "# power[30:, 1]\n",
    "cf.planck_18._plik_lite._get_binned_cls(\n",
    "    test['test_param'][(2509+30):(2509+2509)], cls_b[414:613], weight_e, low_e, width_e, 199)\n",
    "\n",
    "cls_b = cls_b @ cov_inv_ttteee_low"
   ]
  },
  {
   "cell_type": "code",
   "execution_count": 5,
   "metadata": {},
   "outputs": [
    {
     "data": {
      "text/plain": [
       "(array([-292.16906205]), array([-292.16906205]))"
      ]
     },
     "execution_count": 5,
     "metadata": {},
     "output_type": "execute_result"
    }
   ],
   "source": [
    "test_ttteee = np.empty(1)\n",
    "cf.planck_18._plik_lite._plik_lite_f(\n",
    "    cls_b, test['test_param'][-1], test_ttteee, mu_ttteee, 613)\n",
    "test_ttteee, test['test_value']"
   ]
  },
  {
   "cell_type": "code",
   "execution_count": null,
   "metadata": {},
   "outputs": [],
   "source": []
  },
  {
   "cell_type": "code",
   "execution_count": 6,
   "metadata": {},
   "outputs": [],
   "source": [
    "cov_inv_tt = np.linalg.inv(cov[:215, :215])\n",
    "cov_inv_tt_low = np.linalg.cholesky(cov_inv_tt)\n",
    "mu_tt = mu[:215] @ cov_inv_tt_low"
   ]
  },
  {
   "cell_type": "code",
   "execution_count": 7,
   "metadata": {},
   "outputs": [
    {
     "data": {
      "text/plain": [
       "(2510,)"
      ]
     },
     "execution_count": 7,
     "metadata": {},
     "output_type": "execute_result"
    }
   ],
   "source": [
    "test = np.load(\"cosmofast/tests/test_plik_lite_tt.npz\")\n",
    "test['test_param'].shape"
   ]
  },
  {
   "cell_type": "code",
   "execution_count": 8,
   "metadata": {},
   "outputs": [],
   "source": [
    "cls_b = np.empty(215)\n",
    "\n",
    "# power[30:, 0]\n",
    "cf.planck_18._plik_lite._get_binned_cls(\n",
    "    test['test_param'][30:2509], cls_b, weight_t, low_t, width_t, 215)\n",
    "\n",
    "cls_b = cls_b @ cov_inv_tt_low"
   ]
  },
  {
   "cell_type": "code",
   "execution_count": 9,
   "metadata": {},
   "outputs": [
    {
     "data": {
      "text/plain": [
       "(array([-103.46972499]), array([-103.46972499]))"
      ]
     },
     "execution_count": 9,
     "metadata": {},
     "output_type": "execute_result"
    }
   ],
   "source": [
    "test_tt = np.empty(1)\n",
    "cf.planck_18._plik_lite._plik_lite_f(\n",
    "    cls_b, test['test_param'][-1], test_tt, mu_tt, 215)\n",
    "test_tt, test['test_value']"
   ]
  },
  {
   "cell_type": "code",
   "execution_count": null,
   "metadata": {},
   "outputs": [],
   "source": []
  },
  {
   "cell_type": "code",
   "execution_count": 10,
   "metadata": {},
   "outputs": [],
   "source": [
    "np.savez_compressed(\n",
    "    'cosmofast/planck_18/data/plik_lite_tt.npz', weight_t=weight_t, low_t=low_t,\n",
    "    width_t=width_t, n_bin_t=215, cov_inv_low=cov_inv_tt_low, mu=mu_tt,\n",
    "    n_bin=215)\n",
    "np.savez_compressed(\n",
    "    'cosmofast/planck_18/data/plik_lite_ttteee.npz', weight_t=weight_t,\n",
    "    low_t=low_t, width_t=width_t, n_bin_t=215, weight_e=weight_e, low_e=low_e,\n",
    "    width_e=width_e, n_bin_e=199, cov_inv_low=cov_inv_ttteee_low, mu=mu_ttteee,\n",
    "    n_bin=613, i_bin=[0, 215, 414, 613])"
   ]
  },
  {
   "cell_type": "code",
   "execution_count": null,
   "metadata": {},
   "outputs": [],
   "source": []
  },
  {
   "cell_type": "code",
   "execution_count": 11,
   "metadata": {},
   "outputs": [],
   "source": [
    "import cosmofast as cf\n",
    "import numpy as np\n",
    "f_tt = np.load('cosmofast/planck_18/data/plik_lite_tt.npz')\n",
    "f_ttteee = np.load('cosmofast/planck_18/data/plik_lite_ttteee.npz')\n",
    "test_tt = np.load(\"cosmofast/tests/test_plik_lite_tt.npz\")\n",
    "test_ttteee = np.load(\"cosmofast/tests/test_plik_lite_ttteee.npz\")"
   ]
  },
  {
   "cell_type": "code",
   "execution_count": 12,
   "metadata": {},
   "outputs": [
    {
     "data": {
      "text/plain": [
       "(array([-292.16906205]), array([-292.16906205]))"
      ]
     },
     "execution_count": 12,
     "metadata": {},
     "output_type": "execute_result"
    }
   ],
   "source": [
    "cls_b = np.empty(f_ttteee['n_bin'])\n",
    "\n",
    "# power[30:, 0], TT\n",
    "cf.planck_18._plik_lite._get_binned_cls(\n",
    "    test_ttteee['test_param'][30:2509],\n",
    "    cls_b[f_ttteee['i_bin'][0]:f_ttteee['i_bin'][1]], f_ttteee['weight_t'],\n",
    "    f_ttteee['low_t'], f_ttteee['width_t'], f_ttteee['n_bin_t'])\n",
    "\n",
    "# power[30:, 3], TE\n",
    "cf.planck_18._plik_lite._get_binned_cls(\n",
    "    test_ttteee['test_param'][(2509+2509+30):(2509+2509+2509)],\n",
    "    cls_b[f_ttteee['i_bin'][1]:f_ttteee['i_bin'][2]], f_ttteee['weight_e'],\n",
    "    f_ttteee['low_e'], f_ttteee['width_e'], f_ttteee['n_bin_e'])\n",
    "\n",
    "# power[30:, 1], EE\n",
    "cf.planck_18._plik_lite._get_binned_cls(\n",
    "    test_ttteee['test_param'][(2509+30):(2509+2509)],\n",
    "    cls_b[f_ttteee['i_bin'][2]:f_ttteee['i_bin'][3]], f_ttteee['weight_e'],\n",
    "    f_ttteee['low_e'], f_ttteee['width_e'], f_ttteee['n_bin_e'])\n",
    "\n",
    "cls_b = cls_b @ f_ttteee['cov_inv_low']\n",
    "\n",
    "ttteee = np.empty(1)\n",
    "cf.planck_18._plik_lite._plik_lite_f(\n",
    "    cls_b, test_ttteee['test_param'][-1], ttteee, f_ttteee['mu'],\n",
    "    f_ttteee['n_bin'])\n",
    "ttteee, test_ttteee['test_value']"
   ]
  },
  {
   "cell_type": "code",
   "execution_count": 13,
   "metadata": {},
   "outputs": [
    {
     "data": {
      "text/plain": [
       "(array([-103.46972499]), array([-103.46972499]))"
      ]
     },
     "execution_count": 13,
     "metadata": {},
     "output_type": "execute_result"
    }
   ],
   "source": [
    "cls_b = np.empty(f_tt['n_bin'])\n",
    "\n",
    "# power[30:, 0]\n",
    "cf.planck_18._plik_lite._get_binned_cls(\n",
    "    test_tt['test_param'][30:2509], cls_b, f_tt['weight_t'], f_tt['low_t'],\n",
    "    f_tt['width_t'], f_tt['n_bin_t'])\n",
    "\n",
    "cls_b = cls_b @ f_tt['cov_inv_low']\n",
    "\n",
    "tt = np.empty(1)\n",
    "cf.planck_18._plik_lite._plik_lite_f(\n",
    "    cls_b, test_tt['test_param'][-1], tt, f_tt['mu'], f_tt['n_bin'])\n",
    "tt, test_tt['test_value']"
   ]
  },
  {
   "cell_type": "code",
   "execution_count": null,
   "metadata": {},
   "outputs": [],
   "source": []
  }
 ],
 "metadata": {
  "kernelspec": {
   "display_name": "hejia@cori-2",
   "language": "python",
   "name": "hejia-2"
  },
  "language_info": {
   "codemirror_mode": {
    "name": "ipython",
    "version": 3
   },
   "file_extension": ".py",
   "mimetype": "text/x-python",
   "name": "python",
   "nbconvert_exporter": "python",
   "pygments_lexer": "ipython3",
   "version": "3.6.10"
  }
 },
 "nbformat": 4,
 "nbformat_minor": 4
}
