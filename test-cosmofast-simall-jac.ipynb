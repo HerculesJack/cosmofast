{
 "cells": [
  {
   "cell_type": "code",
   "execution_count": 1,
   "metadata": {},
   "outputs": [],
   "source": [
    "import cosmofast as cf\n",
    "import numpy as np\n",
    "f_ee = np.load('cosmofast/planck_18/data/simall_ee.npz')\n",
    "f_bb = np.load('cosmofast/planck_18/data/simall_bb.npz')\n",
    "test_ee = np.load(\"cosmofast/tests/test_simall_ee.npz\")\n",
    "test_bb = np.load(\"cosmofast/tests/test_simall_bb.npz\")"
   ]
  },
  {
   "cell_type": "code",
   "execution_count": 8,
   "metadata": {},
   "outputs": [
    {
     "data": {
      "text/plain": [
       "(array([-198.02824807]), array([-197.99117722]))"
      ]
     },
     "execution_count": 8,
     "metadata": {},
     "output_type": "execute_result"
    }
   ],
   "source": [
    "test_f = np.empty(1)\n",
    "cf.planck_18._simall._simall_f(\n",
    "    test_ee['test_param'][2:30], test_ee['test_param'][30], test_f,\n",
    "    f_ee['c'], f_ee['step'], f_ee['n_step'])\n",
    "test_f, test_ee['test_value'] # array([-198.02824807])"
   ]
  },
  {
   "cell_type": "code",
   "execution_count": 11,
   "metadata": {},
   "outputs": [
    {
     "data": {
      "text/plain": [
       "array([[ 1.31796926e+01,  1.16615595e+01, -1.03902301e+02,\n",
       "         4.01998444e+02, -1.50388250e+02, -7.59025089e+02,\n",
       "         4.63314398e+01, -9.02993312e+02, -9.36962965e+02,\n",
       "        -1.06925098e+03, -2.36290951e+03, -2.77996355e+03,\n",
       "        -3.05817224e+03, -2.08293166e+03, -9.17772695e+02,\n",
       "         1.06187472e+03,  7.93088103e+01, -4.09399041e+03,\n",
       "        -4.85379626e+03,  3.30355791e+03, -3.03019778e+03,\n",
       "         4.87852324e+03,  3.43231436e+03,  1.71966868e+03,\n",
       "        -5.09218424e+03,  6.20992306e+03,  2.84223800e+02,\n",
       "        -6.17544881e+03,  2.03457697e+00]])"
      ]
     },
     "execution_count": 11,
     "metadata": {},
     "output_type": "execute_result"
    }
   ],
   "source": [
    "test_j = np.empty((1, 29))\n",
    "cf.planck_18._simall._simall_j(\n",
    "    test_ee['test_param'][2:30], test_ee['test_param'][30], test_j,\n",
    "    f_ee['c'], f_ee['step'], f_ee['n_step'])\n",
    "test_j"
   ]
  },
  {
   "cell_type": "code",
   "execution_count": 12,
   "metadata": {},
   "outputs": [
    {
     "data": {
      "text/plain": [
       "(array([-198.02824807]),\n",
       " array([[ 1.31796926e+01,  1.16615595e+01, -1.03902301e+02,\n",
       "          4.01998444e+02, -1.50388250e+02, -7.59025089e+02,\n",
       "          4.63314398e+01, -9.02993312e+02, -9.36962965e+02,\n",
       "         -1.06925098e+03, -2.36290951e+03, -2.77996355e+03,\n",
       "         -3.05817224e+03, -2.08293166e+03, -9.17772695e+02,\n",
       "          1.06187472e+03,  7.93088103e+01, -4.09399041e+03,\n",
       "         -4.85379626e+03,  3.30355791e+03, -3.03019778e+03,\n",
       "          4.87852324e+03,  3.43231436e+03,  1.71966868e+03,\n",
       "         -5.09218424e+03,  6.20992306e+03,  2.84223800e+02,\n",
       "         -6.17544881e+03,  2.03457697e+00]]))"
      ]
     },
     "execution_count": 12,
     "metadata": {},
     "output_type": "execute_result"
    }
   ],
   "source": [
    "test_fjf = np.empty(1)\n",
    "test_fjj = np.empty((1, 29))\n",
    "cf.planck_18._simall._simall_fj(\n",
    "    test_ee['test_param'][2:30], test_ee['test_param'][30], test_fjf, test_fjj,\n",
    "    f_ee['c'], f_ee['step'], f_ee['n_step'])\n",
    "test_fjf, test_fjj"
   ]
  },
  {
   "cell_type": "code",
   "execution_count": 13,
   "metadata": {},
   "outputs": [
    {
     "data": {
      "text/plain": [
       "(array([-198.02824807]),\n",
       " array([[ 1.31796926e+01,  1.16615595e+01, -1.03902301e+02,\n",
       "          4.01998444e+02, -1.50388250e+02, -7.59025089e+02,\n",
       "          4.63314398e+01, -9.02993312e+02, -9.36962965e+02,\n",
       "         -1.06925098e+03, -2.36290951e+03, -2.77996355e+03,\n",
       "         -3.05817224e+03, -2.08293166e+03, -9.17772695e+02,\n",
       "          1.06187472e+03,  7.93088103e+01, -4.09399041e+03,\n",
       "         -4.85379626e+03,  3.30355791e+03, -3.03019778e+03,\n",
       "          4.87852324e+03,  3.43231436e+03,  1.71966868e+03,\n",
       "         -5.09218424e+03,  6.20992306e+03,  2.84223800e+02,\n",
       "         -6.17544881e+03,  2.03457697e+00]]))"
      ]
     },
     "execution_count": 13,
     "metadata": {},
     "output_type": "execute_result"
    }
   ],
   "source": [
    "import numdifftools as nd\n",
    "\n",
    "def bf_f(x):\n",
    "    test_f = np.empty(1)\n",
    "    cf.planck_18._simall._simall_f(\n",
    "        x[:-1], x[-1], test_f,\n",
    "        f_ee['c'], f_ee['step'], f_ee['n_step'])\n",
    "    return test_f\n",
    "\n",
    "def bf_j(x):\n",
    "    test_j = np.empty((1, 29))\n",
    "    cf.planck_18._simall._simall_j(\n",
    "        x[:-1], x[-1], test_j,\n",
    "        f_ee['c'], f_ee['step'], f_ee['n_step'])\n",
    "    return test_j\n",
    "\n",
    "bf_f(test_ee['test_param'][2:]), bf_j(test_ee['test_param'][2:])"
   ]
  },
  {
   "cell_type": "code",
   "execution_count": 20,
   "metadata": {},
   "outputs": [
    {
     "data": {
      "text/plain": [
       "array([ 1.31796924e+01,  1.16615596e+01, -1.03902301e+02,  4.01998444e+02,\n",
       "       -1.50388251e+02, -7.59025089e+02,  4.63314396e+01, -9.02993312e+02,\n",
       "       -9.36962965e+02, -1.06925098e+03, -2.36290951e+03, -2.77996355e+03,\n",
       "       -3.05817224e+03, -2.08293166e+03, -9.17772695e+02,  1.06187473e+03,\n",
       "        7.93088096e+01, -4.09399041e+03, -4.85379627e+03,  3.30355791e+03,\n",
       "       -3.03019778e+03,  4.87852324e+03,  3.43231436e+03,  1.71966869e+03,\n",
       "       -5.09218424e+03,  6.20992306e+03,  2.84223801e+02, -6.17544881e+03,\n",
       "        2.03457945e+00])"
      ]
     },
     "execution_count": 20,
     "metadata": {},
     "output_type": "execute_result"
    }
   ],
   "source": [
    "nd.Gradient(bf_f, step=1e-8)(test_ee['test_param'][2:])"
   ]
  },
  {
   "cell_type": "code",
   "execution_count": null,
   "metadata": {},
   "outputs": [],
   "source": []
  },
  {
   "cell_type": "code",
   "execution_count": null,
   "metadata": {},
   "outputs": [],
   "source": []
  },
  {
   "cell_type": "code",
   "execution_count": null,
   "metadata": {},
   "outputs": [],
   "source": []
  },
  {
   "cell_type": "code",
   "execution_count": 21,
   "metadata": {},
   "outputs": [],
   "source": [
    "import cosmofast as cf\n",
    "import numpy as np\n",
    "f_ee = np.load('cosmofast/planck_18/data/simall_ee.npz')\n",
    "f_bb = np.load('cosmofast/planck_18/data/simall_bb.npz')\n",
    "test_ee = np.load(\"cosmofast/tests/test_simall_ee.npz\")\n",
    "test_bb = np.load(\"cosmofast/tests/test_simall_bb.npz\")"
   ]
  },
  {
   "cell_type": "code",
   "execution_count": 22,
   "metadata": {},
   "outputs": [
    {
     "data": {
      "text/plain": [
       "(array([-194.9979613]), array([-194.95735006]))"
      ]
     },
     "execution_count": 22,
     "metadata": {},
     "output_type": "execute_result"
    }
   ],
   "source": [
    "test_f = np.empty(1)\n",
    "cf.planck_18._simall._simall_f(\n",
    "    test_bb['test_param'][2:30], test_bb['test_param'][30], test_f,\n",
    "    f_bb['c'], f_bb['step'], f_bb['n_step'])\n",
    "test_f, test_bb['test_value'] # array([-194.9979613])"
   ]
  },
  {
   "cell_type": "code",
   "execution_count": 23,
   "metadata": {},
   "outputs": [
    {
     "data": {
      "text/plain": [
       "array([[-6.79503438e+01,  2.09263183e+01, -2.39422060e+01,\n",
       "        -2.71523277e+02, -9.92971952e+02, -2.94953790e+02,\n",
       "        -1.66798287e+03, -1.02598167e+03,  6.35567252e+02,\n",
       "        -3.92816833e+03,  6.95641948e+02,  4.11494748e+03,\n",
       "        -3.80149539e+03, -3.75578232e+03, -4.88208951e+03,\n",
       "         2.11964880e+03, -3.30358464e+02, -3.22399700e+03,\n",
       "         1.73435785e+03,  3.35100840e+03, -7.59027134e+03,\n",
       "        -5.39496003e+03,  1.45779284e+04, -2.62784484e+03,\n",
       "         7.93245109e+03, -5.58269184e+03, -6.62479456e+03,\n",
       "         2.97190287e+02,  6.04487001e-01]])"
      ]
     },
     "execution_count": 23,
     "metadata": {},
     "output_type": "execute_result"
    }
   ],
   "source": [
    "test_j = np.empty((1, 29))\n",
    "cf.planck_18._simall._simall_j(\n",
    "    test_bb['test_param'][2:30], test_bb['test_param'][30], test_j,\n",
    "    f_bb['c'], f_bb['step'], f_bb['n_step'])\n",
    "test_j"
   ]
  },
  {
   "cell_type": "code",
   "execution_count": 24,
   "metadata": {},
   "outputs": [
    {
     "data": {
      "text/plain": [
       "(array([-194.9979613]),\n",
       " array([[-6.79503438e+01,  2.09263183e+01, -2.39422060e+01,\n",
       "         -2.71523277e+02, -9.92971952e+02, -2.94953790e+02,\n",
       "         -1.66798287e+03, -1.02598167e+03,  6.35567252e+02,\n",
       "         -3.92816833e+03,  6.95641948e+02,  4.11494748e+03,\n",
       "         -3.80149539e+03, -3.75578232e+03, -4.88208951e+03,\n",
       "          2.11964880e+03, -3.30358464e+02, -3.22399700e+03,\n",
       "          1.73435785e+03,  3.35100840e+03, -7.59027134e+03,\n",
       "         -5.39496003e+03,  1.45779284e+04, -2.62784484e+03,\n",
       "          7.93245109e+03, -5.58269184e+03, -6.62479456e+03,\n",
       "          2.97190287e+02,  6.04487001e-01]]))"
      ]
     },
     "execution_count": 24,
     "metadata": {},
     "output_type": "execute_result"
    }
   ],
   "source": [
    "test_fjf = np.empty(1)\n",
    "test_fjj = np.empty((1, 29))\n",
    "cf.planck_18._simall._simall_fj(\n",
    "    test_bb['test_param'][2:30], test_bb['test_param'][30], test_fjf, test_fjj,\n",
    "    f_bb['c'], f_bb['step'], f_bb['n_step'])\n",
    "test_fjf, test_fjj"
   ]
  },
  {
   "cell_type": "code",
   "execution_count": 25,
   "metadata": {},
   "outputs": [
    {
     "data": {
      "text/plain": [
       "(array([-194.9979613]),\n",
       " array([[-6.79503438e+01,  2.09263183e+01, -2.39422060e+01,\n",
       "         -2.71523277e+02, -9.92971952e+02, -2.94953790e+02,\n",
       "         -1.66798287e+03, -1.02598167e+03,  6.35567252e+02,\n",
       "         -3.92816833e+03,  6.95641948e+02,  4.11494748e+03,\n",
       "         -3.80149539e+03, -3.75578232e+03, -4.88208951e+03,\n",
       "          2.11964880e+03, -3.30358464e+02, -3.22399700e+03,\n",
       "          1.73435785e+03,  3.35100840e+03, -7.59027134e+03,\n",
       "         -5.39496003e+03,  1.45779284e+04, -2.62784484e+03,\n",
       "          7.93245109e+03, -5.58269184e+03, -6.62479456e+03,\n",
       "          2.97190287e+02,  6.04487001e-01]]))"
      ]
     },
     "execution_count": 25,
     "metadata": {},
     "output_type": "execute_result"
    }
   ],
   "source": [
    "import numdifftools as nd\n",
    "\n",
    "def bf_f(x):\n",
    "    test_f = np.empty(1)\n",
    "    cf.planck_18._simall._simall_f(\n",
    "        x[:-1], x[-1], test_f,\n",
    "        f_bb['c'], f_bb['step'], f_bb['n_step'])\n",
    "    return test_f\n",
    "\n",
    "def bf_j(x):\n",
    "    test_j = np.empty((1, 29))\n",
    "    cf.planck_18._simall._simall_j(\n",
    "        x[:-1], x[-1], test_j,\n",
    "        f_bb['c'], f_bb['step'], f_bb['n_step'])\n",
    "    return test_j\n",
    "\n",
    "bf_f(test_bb['test_param'][2:]), bf_j(test_bb['test_param'][2:])"
   ]
  },
  {
   "cell_type": "code",
   "execution_count": 26,
   "metadata": {},
   "outputs": [
    {
     "data": {
      "text/plain": [
       "array([-6.79503434e+01,  2.09263193e+01, -2.39422052e+01, -2.71523277e+02,\n",
       "       -9.92971951e+02, -2.94953790e+02, -1.66798287e+03, -1.02598167e+03,\n",
       "        6.35567252e+02, -3.92816833e+03,  6.95641948e+02,  4.11494748e+03,\n",
       "       -3.80149539e+03, -3.75578233e+03, -4.88208952e+03,  2.11964881e+03,\n",
       "       -3.30358458e+02, -3.22399700e+03,  1.73435785e+03,  3.35100842e+03,\n",
       "       -7.59027130e+03, -5.39496004e+03,  1.45779285e+04, -2.62784477e+03,\n",
       "        7.93245120e+03, -5.58269182e+03, -6.62479447e+03,  2.97190055e+02,\n",
       "        6.04482867e-01])"
      ]
     },
     "execution_count": 26,
     "metadata": {},
     "output_type": "execute_result"
    }
   ],
   "source": [
    "nd.Gradient(bf_f, step=1e-8)(test_bb['test_param'][2:])"
   ]
  },
  {
   "cell_type": "code",
   "execution_count": null,
   "metadata": {},
   "outputs": [],
   "source": []
  }
 ],
 "metadata": {
  "kernelspec": {
   "display_name": "hejia@cori-2",
   "language": "python",
   "name": "hejia-2"
  },
  "language_info": {
   "codemirror_mode": {
    "name": "ipython",
    "version": 3
   },
   "file_extension": ".py",
   "mimetype": "text/x-python",
   "name": "python",
   "nbconvert_exporter": "python",
   "pygments_lexer": "ipython3",
   "version": "3.6.10"
  }
 },
 "nbformat": 4,
 "nbformat_minor": 4
}
