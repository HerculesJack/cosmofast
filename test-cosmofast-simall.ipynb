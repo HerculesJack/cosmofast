{
 "cells": [
  {
   "cell_type": "code",
   "execution_count": 1,
   "metadata": {},
   "outputs": [],
   "source": [
    "import cosmofast as cf\n",
    "from astropy.io import fits\n",
    "import numpy as np\n",
    "ffE = fits.open('cosmofast/planck_18/data/legacy-simall/probEE')\n",
    "ffB = fits.open('cosmofast/planck_18/data/legacy-simall/probBB')"
   ]
  },
  {
   "cell_type": "code",
   "execution_count": 2,
   "metadata": {},
   "outputs": [
    {
     "name": "stdout",
     "output_type": "stream",
     "text": [
      "Filename: cosmofast/planck_18/data/legacy-simall/probBB\n",
      "No.    Name      Ver    Type      Cards   Dimensions   Format\n",
      "  0  PRIMARY       1 PrimaryHDU       5   (56000,)   float64   \n"
     ]
    }
   ],
   "source": [
    "ffB.info()"
   ]
  },
  {
   "cell_type": "code",
   "execution_count": 3,
   "metadata": {},
   "outputs": [
    {
     "name": "stdout",
     "output_type": "stream",
     "text": [
      "Filename: cosmofast/planck_18/data/legacy-simall/probEE\n",
      "No.    Name      Ver    Type      Cards   Dimensions   Format\n",
      "  0  PRIMARY       1 PrimaryHDU       5   (84000,)   float64   \n"
     ]
    }
   ],
   "source": [
    "ffE.info()"
   ]
  },
  {
   "cell_type": "code",
   "execution_count": 4,
   "metadata": {},
   "outputs": [
    {
     "data": {
      "text/plain": [
       "((31,), (31,), (61,))"
      ]
     },
     "execution_count": 4,
     "metadata": {},
     "output_type": "execute_result"
    }
   ],
   "source": [
    "testE = np.load(\"cosmofast/tests/test_simall_EE.npz\")\n",
    "testB = np.load(\"cosmofast/tests/test_simall_BB.npz\")\n",
    "testEB = np.load(\"cosmofast/tests/test_simall_EEBB.npz\")\n",
    "testE['test_param'].shape, testB['test_param'].shape, testEB['test_param'].shape"
   ]
  },
  {
   "cell_type": "code",
   "execution_count": 5,
   "metadata": {},
   "outputs": [],
   "source": [
    "from scipy.interpolate import CubicSpline\n",
    "cc_ee = CubicSpline(np.arange(0, 0.0001*3000, 0.0001),\n",
    "                    ffE[0].data.reshape((28, 3000)), axis=1)\n",
    "c_ee = np.swapaxes(cc_ee.c, 0, 2).copy()\n",
    "cc_bb = CubicSpline(np.arange(0, 0.0001*2000, 0.0001),\n",
    "                    ffB[0].data.reshape((28, 2000)), axis=1)\n",
    "c_bb = np.swapaxes(cc_bb.c, 0, 2).copy()"
   ]
  },
  {
   "cell_type": "code",
   "execution_count": null,
   "metadata": {},
   "outputs": [],
   "source": []
  },
  {
   "cell_type": "code",
   "execution_count": 6,
   "metadata": {},
   "outputs": [
    {
     "data": {
      "text/plain": [
       "(array([-198.02824807]), array([-197.99117722]))"
      ]
     },
     "execution_count": 6,
     "metadata": {},
     "output_type": "execute_result"
    }
   ],
   "source": [
    "test_e = np.empty(1)\n",
    "cf.planck_18._simall._simall_f(\n",
    "    testE['test_param'][2:30], testE['test_param'][30], test_e,\n",
    "    c_ee, 0.0001, 3000)\n",
    "test_e, testE['test_value']"
   ]
  },
  {
   "cell_type": "code",
   "execution_count": 7,
   "metadata": {},
   "outputs": [
    {
     "data": {
      "text/plain": [
       "-198.02824807360398"
      ]
     },
     "execution_count": 7,
     "metadata": {},
     "output_type": "execute_result"
    }
   ],
   "source": [
    "sum(np.diag(cc_ee(testE['test_param'][2:30] / 2 / np.pi * np.arange(2, 30) *\n",
    "                  np.arange(3, 31) / testE['test_param'][30]**2)))"
   ]
  },
  {
   "cell_type": "code",
   "execution_count": 8,
   "metadata": {},
   "outputs": [
    {
     "data": {
      "text/plain": [
       "(array([-194.9979613]), array([-194.95735006]))"
      ]
     },
     "execution_count": 8,
     "metadata": {},
     "output_type": "execute_result"
    }
   ],
   "source": [
    "test_b = np.empty(1)\n",
    "cf.planck_18._simall._simall_f(\n",
    "    testB['test_param'][2:30], testB['test_param'][30], test_b,\n",
    "    c_bb, 0.0001, 2000)\n",
    "test_b, testB['test_value']"
   ]
  },
  {
   "cell_type": "code",
   "execution_count": 9,
   "metadata": {},
   "outputs": [
    {
     "data": {
      "text/plain": [
       "-194.99796129510952"
      ]
     },
     "execution_count": 9,
     "metadata": {},
     "output_type": "execute_result"
    }
   ],
   "source": [
    "sum(np.diag(cc_bb(testB['test_param'][2:30] / 2 / np.pi * np.arange(2, 30) *\n",
    "                  np.arange(3, 31) / testB['test_param'][30]**2)))"
   ]
  },
  {
   "cell_type": "code",
   "execution_count": 10,
   "metadata": {},
   "outputs": [
    {
     "data": {
      "text/plain": [
       "(array([-393.02620937]), array([-392.94852728]))"
      ]
     },
     "execution_count": 10,
     "metadata": {},
     "output_type": "execute_result"
    }
   ],
   "source": [
    "test_e + test_b, testEB['test_value']"
   ]
  },
  {
   "cell_type": "code",
   "execution_count": null,
   "metadata": {},
   "outputs": [],
   "source": []
  },
  {
   "cell_type": "code",
   "execution_count": 11,
   "metadata": {},
   "outputs": [
    {
     "data": {
      "text/plain": [
       "array([-205.90806093])"
      ]
     },
     "execution_count": 11,
     "metadata": {},
     "output_type": "execute_result"
    }
   ],
   "source": [
    "test_e = np.empty(1)\n",
    "cf.planck_18._simall._simall_f(np.zeros(28), 1., test_e, c_ee, 0.0001, 3000)\n",
    "test_e # original implementation: array([-205.90806093])"
   ]
  },
  {
   "cell_type": "code",
   "execution_count": 12,
   "metadata": {},
   "outputs": [
    {
     "data": {
      "text/plain": [
       "array([-194.73314137])"
      ]
     },
     "execution_count": 12,
     "metadata": {},
     "output_type": "execute_result"
    }
   ],
   "source": [
    "test_b = np.empty(1)\n",
    "cf.planck_18._simall._simall_f(np.zeros(28), 1., test_b, c_bb, 0.0001, 3000)\n",
    "test_b # original implementation: array([-194.73314137])"
   ]
  },
  {
   "cell_type": "code",
   "execution_count": null,
   "metadata": {},
   "outputs": [],
   "source": []
  },
  {
   "cell_type": "code",
   "execution_count": 13,
   "metadata": {},
   "outputs": [],
   "source": [
    "np.savez_compressed('cosmofast/planck_18/data/simall_ee.npz',\n",
    "                    c=c_ee, step=0.0001, n_step=3000)\n",
    "np.savez_compressed('cosmofast/planck_18/data/simall_bb.npz',\n",
    "                    c=c_bb, step=0.0001, n_step=2000)"
   ]
  },
  {
   "cell_type": "code",
   "execution_count": null,
   "metadata": {},
   "outputs": [],
   "source": []
  },
  {
   "cell_type": "code",
   "execution_count": 3,
   "metadata": {},
   "outputs": [],
   "source": [
    "import cosmofast as cf\n",
    "import numpy as np\n",
    "f_ee = np.load('cosmofast/planck_18/data/simall_ee.npz')\n",
    "f_bb = np.load('cosmofast/planck_18/data/simall_bb.npz')\n",
    "test_ee = np.load(\"cosmofast/tests/test_simall_ee.npz\")\n",
    "test_bb = np.load(\"cosmofast/tests/test_simall_bb.npz\")"
   ]
  },
  {
   "cell_type": "code",
   "execution_count": 4,
   "metadata": {},
   "outputs": [
    {
     "data": {
      "text/plain": [
       "(array([-198.02824807]), array([-197.99117722]))"
      ]
     },
     "execution_count": 4,
     "metadata": {},
     "output_type": "execute_result"
    }
   ],
   "source": [
    "test_e = np.empty(1)\n",
    "cf.planck_18._simall._simall_f(\n",
    "    test_ee['test_param'][2:30], test_ee['test_param'][30], test_e,\n",
    "    f_ee['c'], f_ee['step'], f_ee['n_step'])\n",
    "test_e, test_ee['test_value'] # array([-198.02824807])"
   ]
  },
  {
   "cell_type": "code",
   "execution_count": 5,
   "metadata": {},
   "outputs": [
    {
     "data": {
      "text/plain": [
       "(array([-194.9979613]), array([-194.95735006]))"
      ]
     },
     "execution_count": 5,
     "metadata": {},
     "output_type": "execute_result"
    }
   ],
   "source": [
    "test_b = np.empty(1)\n",
    "cf.planck_18._simall._simall_f(\n",
    "    test_bb['test_param'][2:30], test_bb['test_param'][30], test_b,\n",
    "    f_bb['c'], f_bb['step'], f_bb['n_step'])\n",
    "test_b, test_bb['test_value'] # array([-194.9979613])"
   ]
  },
  {
   "cell_type": "code",
   "execution_count": null,
   "metadata": {},
   "outputs": [],
   "source": []
  }
 ],
 "metadata": {
  "kernelspec": {
   "display_name": "hejia@cori-2",
   "language": "python",
   "name": "hejia-2"
  },
  "language_info": {
   "codemirror_mode": {
    "name": "ipython",
    "version": 3
   },
   "file_extension": ".py",
   "mimetype": "text/x-python",
   "name": "python",
   "nbconvert_exporter": "python",
   "pygments_lexer": "ipython3",
   "version": "3.6.10"
  }
 },
 "nbformat": 4,
 "nbformat_minor": 4
}
