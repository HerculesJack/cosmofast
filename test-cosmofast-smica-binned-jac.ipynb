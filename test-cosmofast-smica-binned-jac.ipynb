{
 "cells": [
  {
   "cell_type": "code",
   "execution_count": 2,
   "metadata": {},
   "outputs": [],
   "source": [
    "import cosmofast as cf\n",
    "import numpy as np\n",
    "f_smica = np.load('cosmofast/planck_18/data/smica.npz')\n",
    "test_smica = np.load(\"cosmofast/tests/test_smica.npz\")"
   ]
  },
  {
   "cell_type": "code",
   "execution_count": 3,
   "metadata": {},
   "outputs": [
    {
     "data": {
      "text/plain": [
       "(array([-4.41526344]), array([-4.41526344]))"
      ]
     },
     "execution_count": 3,
     "metadata": {},
     "output_type": "execute_result"
    }
   ],
   "source": [
    "# lensing, TT, EE, TE\n",
    "test_f = np.empty(1)\n",
    "lens_b = np.empty(f_smica['n_bin'])\n",
    "cmb_b = np.empty(f_smica['n_bin'])\n",
    "cf.planck_18._smica._get_binned_cls(\n",
    "    test_smica['test_param'][:-1], lens_b, cmb_b, f_smica['F'],\n",
    "    f_smica['n_cmb'], f_smica['l_min'], f_smica['l_max'], f_smica['n_bin'])\n",
    "cf.planck_18._smica._smica_f(\n",
    "    lens_b, cmb_b, test_smica['test_param'][-1], test_f, f_smica['mu'],\n",
    "    f_smica['siginv'], f_smica['n_cmb'], f_smica['n_bin'])\n",
    "test_f, test_smica['test_value']"
   ]
  },
  {
   "cell_type": "code",
   "execution_count": 4,
   "metadata": {},
   "outputs": [
    {
     "data": {
      "text/plain": [
       "array([[ 3.52313784e+07,  1.17281701e+08,  6.82370984e+07,\n",
       "        -1.91295159e+08, -3.05372104e+08, -2.84785643e+08,\n",
       "         2.38260934e+08,  3.21848841e+08, -1.86966026e+08,\n",
       "         3.51610212e+07,  1.17047489e+08,  6.81008286e+07,\n",
       "        -1.90913142e+08, -3.04762275e+08, -2.84216925e+08,\n",
       "         2.37785126e+08,  3.21206108e+08, -1.86592654e+08,\n",
       "         1.85691280e+01]])"
      ]
     },
     "execution_count": 4,
     "metadata": {},
     "output_type": "execute_result"
    }
   ],
   "source": [
    "# lensing, TT, EE, TE\n",
    "test_j = np.empty((1, (2 * f_smica['n_bin'] + 1)))\n",
    "lens_b = np.empty(f_smica['n_bin'])\n",
    "cmb_b = np.empty(f_smica['n_bin'])\n",
    "cf.planck_18._smica._get_binned_cls(\n",
    "    test_smica['test_param'][:-1], lens_b, cmb_b, f_smica['F'],\n",
    "    f_smica['n_cmb'], f_smica['l_min'], f_smica['l_max'], f_smica['n_bin'])\n",
    "cf.planck_18._smica._smica_j(\n",
    "    lens_b, cmb_b, test_smica['test_param'][-1], test_j, f_smica['mu'],\n",
    "    f_smica['siginv'], f_smica['n_cmb'], f_smica['n_bin'])\n",
    "test_j"
   ]
  },
  {
   "cell_type": "code",
   "execution_count": 5,
   "metadata": {},
   "outputs": [
    {
     "data": {
      "text/plain": [
       "(array([-4.41526344]),\n",
       " array([[ 3.52313784e+07,  1.17281701e+08,  6.82370984e+07,\n",
       "         -1.91295159e+08, -3.05372104e+08, -2.84785643e+08,\n",
       "          2.38260934e+08,  3.21848841e+08, -1.86966026e+08,\n",
       "          3.51610212e+07,  1.17047489e+08,  6.81008286e+07,\n",
       "         -1.90913142e+08, -3.04762275e+08, -2.84216925e+08,\n",
       "          2.37785126e+08,  3.21206108e+08, -1.86592654e+08,\n",
       "          1.85691280e+01]]))"
      ]
     },
     "execution_count": 5,
     "metadata": {},
     "output_type": "execute_result"
    }
   ],
   "source": [
    "# lensing, TT, EE, TE\n",
    "test_fjf = np.empty(1)\n",
    "test_fjj = np.empty((1, (2 * f_smica['n_bin'] + 1)))\n",
    "lens_b = np.empty(f_smica['n_bin'])\n",
    "cmb_b = np.empty(f_smica['n_bin'])\n",
    "cf.planck_18._smica._get_binned_cls(\n",
    "    test_smica['test_param'][:-1], lens_b, cmb_b, f_smica['F'],\n",
    "    f_smica['n_cmb'], f_smica['l_min'], f_smica['l_max'], f_smica['n_bin'])\n",
    "cf.planck_18._smica._smica_fj(\n",
    "    lens_b, cmb_b, test_smica['test_param'][-1], test_fjf, test_fjj, f_smica['mu'],\n",
    "    f_smica['siginv'], f_smica['n_cmb'], f_smica['n_bin'])\n",
    "test_fjf, test_fjj"
   ]
  },
  {
   "cell_type": "code",
   "execution_count": 6,
   "metadata": {},
   "outputs": [
    {
     "data": {
      "text/plain": [
       "(array([-4.41526344]),\n",
       " array([[ 3.52313784e+07,  1.17281701e+08,  6.82370984e+07,\n",
       "         -1.91295159e+08, -3.05372104e+08, -2.84785643e+08,\n",
       "          2.38260934e+08,  3.21848841e+08, -1.86966026e+08,\n",
       "          3.51610212e+07,  1.17047489e+08,  6.81008286e+07,\n",
       "         -1.90913142e+08, -3.04762275e+08, -2.84216925e+08,\n",
       "          2.37785126e+08,  3.21206108e+08, -1.86592654e+08,\n",
       "          1.85691280e+01]]))"
      ]
     },
     "execution_count": 6,
     "metadata": {},
     "output_type": "execute_result"
    }
   ],
   "source": [
    "import numdifftools as nd\n",
    "\n",
    "xx = np.concatenate((lens_b, cmb_b, test_smica['test_param'][-1:]))\n",
    "\n",
    "def bf_f(x):\n",
    "    test_f = np.empty(1)\n",
    "    cf.planck_18._smica._smica_f(\n",
    "        x[:f_smica['n_bin']], x[f_smica['n_bin']:(2 * f_smica['n_bin'])],\n",
    "        x[-1], test_f, f_smica['mu'],\n",
    "        f_smica['siginv'], f_smica['n_cmb'], f_smica['n_bin'])\n",
    "    return test_f\n",
    "\n",
    "def bf_j(x):\n",
    "    test_j = np.empty((1, (2 * f_smica['n_bin'] + 1)))\n",
    "    cf.planck_18._smica._smica_j(\n",
    "        x[:f_smica['n_bin']], x[f_smica['n_bin']:(2 * f_smica['n_bin'])],\n",
    "        x[-1], test_j, f_smica['mu'],\n",
    "        f_smica['siginv'], f_smica['n_cmb'], f_smica['n_bin'])\n",
    "    return test_j\n",
    "\n",
    "bf_f(xx), bf_j(xx)"
   ]
  },
  {
   "cell_type": "code",
   "execution_count": 8,
   "metadata": {},
   "outputs": [
    {
     "data": {
      "text/plain": [
       "array([ 3.52313784e+07,  1.17281701e+08,  6.82370984e+07, -1.91295159e+08,\n",
       "       -3.05372104e+08, -2.84785643e+08,  2.38260934e+08,  3.21848841e+08,\n",
       "       -1.86966026e+08,  3.51610212e+07,  1.17047489e+08,  6.81008286e+07,\n",
       "       -1.90913142e+08, -3.04762275e+08, -2.84216925e+08,  2.37785126e+08,\n",
       "        3.21206108e+08, -1.86592654e+08,  1.85691287e+01])"
      ]
     },
     "execution_count": 8,
     "metadata": {},
     "output_type": "execute_result"
    }
   ],
   "source": [
    "nd.Gradient(bf_f, step=1e-8)(xx)"
   ]
  },
  {
   "cell_type": "code",
   "execution_count": null,
   "metadata": {},
   "outputs": [],
   "source": []
  },
  {
   "cell_type": "code",
   "execution_count": null,
   "metadata": {},
   "outputs": [],
   "source": []
  },
  {
   "cell_type": "code",
   "execution_count": 9,
   "metadata": {},
   "outputs": [],
   "source": [
    "import cosmofast as cf\n",
    "import numpy as np\n",
    "f_smica = np.load('cosmofast/planck_18/data/smica_cmb_marged.npz')\n",
    "test_smica = np.load(\"cosmofast/tests/test_smica_cmb_marged.npz\")"
   ]
  },
  {
   "cell_type": "code",
   "execution_count": 10,
   "metadata": {},
   "outputs": [
    {
     "data": {
      "text/plain": [
       "(array([-8.23033182]), array([-8.23033182]))"
      ]
     },
     "execution_count": 10,
     "metadata": {},
     "output_type": "execute_result"
    }
   ],
   "source": [
    "# lensing\n",
    "test_f = np.empty(1)\n",
    "lens_b = np.empty(f_smica['n_bin'])\n",
    "cmb_b = np.empty(1)\n",
    "cf.planck_18._smica._get_binned_cls(\n",
    "    test_smica['test_param'][:-1], lens_b, cmb_b, f_smica['F'],\n",
    "    f_smica['n_cmb'], f_smica['l_min'], f_smica['l_max'], f_smica['n_bin'])\n",
    "cf.planck_18._smica._smica_f(\n",
    "    lens_b, cmb_b, 1., test_f, f_smica['mu'],\n",
    "    f_smica['siginv'], f_smica['n_cmb'], f_smica['n_bin'])\n",
    "test_f, test_smica['test_value']"
   ]
  },
  {
   "cell_type": "code",
   "execution_count": 11,
   "metadata": {},
   "outputs": [
    {
     "data": {
      "text/plain": [
       "array([[ 4.23909602e+07,  1.97241860e+08,  2.15426993e+08,\n",
       "        -9.47288006e+07, -1.31962383e+08, -1.62344785e+08,\n",
       "         4.67238433e+08,  5.88548103e+08,  1.15188023e+08]])"
      ]
     },
     "execution_count": 11,
     "metadata": {},
     "output_type": "execute_result"
    }
   ],
   "source": [
    "# lensing\n",
    "test_j = np.empty((1, f_smica['n_bin']))\n",
    "lens_b = np.empty(f_smica['n_bin'])\n",
    "cmb_b = np.empty(1)\n",
    "cf.planck_18._smica._get_binned_cls(\n",
    "    test_smica['test_param'][:-1], lens_b, cmb_b, f_smica['F'],\n",
    "    f_smica['n_cmb'], f_smica['l_min'], f_smica['l_max'], f_smica['n_bin'])\n",
    "cf.planck_18._smica._smica_j(\n",
    "    lens_b, cmb_b, 1., test_j, f_smica['mu'],\n",
    "    f_smica['siginv'], f_smica['n_cmb'], f_smica['n_bin'])\n",
    "test_j"
   ]
  },
  {
   "cell_type": "code",
   "execution_count": 12,
   "metadata": {},
   "outputs": [
    {
     "data": {
      "text/plain": [
       "(array([-8.23033182]),\n",
       " array([[ 4.23909602e+07,  1.97241860e+08,  2.15426993e+08,\n",
       "         -9.47288006e+07, -1.31962383e+08, -1.62344785e+08,\n",
       "          4.67238433e+08,  5.88548103e+08,  1.15188023e+08]]))"
      ]
     },
     "execution_count": 12,
     "metadata": {},
     "output_type": "execute_result"
    }
   ],
   "source": [
    "# lensing\n",
    "test_fjf = np.empty(1)\n",
    "test_fjj = np.empty((1, f_smica['n_bin']))\n",
    "lens_b = np.empty(f_smica['n_bin'])\n",
    "cmb_b = np.empty(1)\n",
    "cf.planck_18._smica._get_binned_cls(\n",
    "    test_smica['test_param'][:-1], lens_b, cmb_b, f_smica['F'],\n",
    "    f_smica['n_cmb'], f_smica['l_min'], f_smica['l_max'], f_smica['n_bin'])\n",
    "cf.planck_18._smica._smica_fj(\n",
    "    lens_b, cmb_b, 1., test_fjf, test_fjj, f_smica['mu'],\n",
    "    f_smica['siginv'], f_smica['n_cmb'], f_smica['n_bin'])\n",
    "test_fjf, test_fjj"
   ]
  },
  {
   "cell_type": "code",
   "execution_count": 13,
   "metadata": {},
   "outputs": [
    {
     "data": {
      "text/plain": [
       "(array([-8.23033182]),\n",
       " array([[ 4.23909602e+07,  1.97241860e+08,  2.15426993e+08,\n",
       "         -9.47288006e+07, -1.31962383e+08, -1.62344785e+08,\n",
       "          4.67238433e+08,  5.88548103e+08,  1.15188023e+08]]))"
      ]
     },
     "execution_count": 13,
     "metadata": {},
     "output_type": "execute_result"
    }
   ],
   "source": [
    "import numdifftools as nd\n",
    "\n",
    "def bf_f(x):\n",
    "    test_f = np.empty(1)\n",
    "    cf.planck_18._smica._smica_f(\n",
    "        x, cmb_b, 1., test_f, f_smica['mu'],\n",
    "        f_smica['siginv'], f_smica['n_cmb'], f_smica['n_bin'])\n",
    "    return test_f\n",
    "\n",
    "def bf_j(x):\n",
    "    test_j = np.empty((1, f_smica['n_bin']))\n",
    "    cf.planck_18._smica._smica_j(\n",
    "        x, cmb_b, 1., test_j, f_smica['mu'],\n",
    "        f_smica['siginv'], f_smica['n_cmb'], f_smica['n_bin'])\n",
    "    return test_j\n",
    "\n",
    "bf_f(lens_b), bf_j(lens_b)"
   ]
  },
  {
   "cell_type": "code",
   "execution_count": 14,
   "metadata": {},
   "outputs": [
    {
     "data": {
      "text/plain": [
       "array([ 4.23909602e+07,  1.97241860e+08,  2.15426993e+08, -9.47288006e+07,\n",
       "       -1.31962383e+08, -1.62344785e+08,  4.67238433e+08,  5.88548103e+08,\n",
       "        1.15188023e+08])"
      ]
     },
     "execution_count": 14,
     "metadata": {},
     "output_type": "execute_result"
    }
   ],
   "source": [
    "nd.Gradient(bf_f, step=1e-8)(lens_b)"
   ]
  },
  {
   "cell_type": "code",
   "execution_count": null,
   "metadata": {},
   "outputs": [],
   "source": []
  }
 ],
 "metadata": {
  "kernelspec": {
   "display_name": "hejia@cori-2",
   "language": "python",
   "name": "hejia-2"
  },
  "language_info": {
   "codemirror_mode": {
    "name": "ipython",
    "version": 3
   },
   "file_extension": ".py",
   "mimetype": "text/x-python",
   "name": "python",
   "nbconvert_exporter": "python",
   "pygments_lexer": "ipython3",
   "version": "3.6.10"
  }
 },
 "nbformat": 4,
 "nbformat_minor": 4
}
