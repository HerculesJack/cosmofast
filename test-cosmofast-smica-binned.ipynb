{
 "cells": [
  {
   "cell_type": "code",
   "execution_count": 5,
   "metadata": {},
   "outputs": [],
   "source": [
    "import cosmofast as cf\n",
    "import numpy as np\n",
    "f_smica = np.load('cosmofast/planck_18/data/smica.npz')\n",
    "test_smica = np.load(\"cosmofast/tests/test_smica.npz\")"
   ]
  },
  {
   "cell_type": "code",
   "execution_count": 2,
   "metadata": {},
   "outputs": [
    {
     "data": {
      "text/plain": [
       "(array([-4.41526344]), array([-4.41526344]))"
      ]
     },
     "execution_count": 2,
     "metadata": {},
     "output_type": "execute_result"
    }
   ],
   "source": [
    "# lensing, TT, EE, TE\n",
    "test = np.empty(1)\n",
    "lens_b = np.empty(f_smica['n_bin'])\n",
    "cmb_b = np.empty(f_smica['n_bin'])\n",
    "cf.planck_18._smica._get_binned_cls(\n",
    "    test_smica['test_param'][:-1], lens_b, cmb_b, f_smica['F'],\n",
    "    f_smica['n_cmb'], f_smica['l_min'], f_smica['l_max'], f_smica['n_bin'])\n",
    "cf.planck_18._smica._smica_f(\n",
    "    lens_b, cmb_b, test_smica['test_param'][-1], test, f_smica['mu'],\n",
    "    f_smica['siginv'], f_smica['n_cmb'], f_smica['n_bin'])\n",
    "test, test_smica['test_value']"
   ]
  },
  {
   "cell_type": "code",
   "execution_count": null,
   "metadata": {},
   "outputs": [],
   "source": []
  },
  {
   "cell_type": "code",
   "execution_count": 3,
   "metadata": {},
   "outputs": [],
   "source": [
    "import cosmofast as cf\n",
    "import numpy as np\n",
    "f_smica = np.load('cosmofast/planck_18/data/smica_cmb_marged.npz')\n",
    "test_smica = np.load(\"cosmofast/tests/test_smica_cmb_marged.npz\")"
   ]
  },
  {
   "cell_type": "code",
   "execution_count": 4,
   "metadata": {},
   "outputs": [
    {
     "data": {
      "text/plain": [
       "(array([-8.23033182]), array([-8.23033182]))"
      ]
     },
     "execution_count": 4,
     "metadata": {},
     "output_type": "execute_result"
    }
   ],
   "source": [
    "# lensing\n",
    "test = np.empty(1)\n",
    "lens_b = np.empty(f_smica['n_bin'])\n",
    "cmb_b = np.empty(1)\n",
    "cf.planck_18._smica._get_binned_cls(\n",
    "    test_smica['test_param'][:-1], lens_b, cmb_b, f_smica['F'],\n",
    "    f_smica['n_cmb'], f_smica['l_min'], f_smica['l_max'], f_smica['n_bin'])\n",
    "cf.planck_18._smica._smica_f(\n",
    "    lens_b, cmb_b, 1., test, f_smica['mu'],\n",
    "    f_smica['siginv'], f_smica['n_cmb'], f_smica['n_bin'])\n",
    "test, test_smica['test_value']"
   ]
  },
  {
   "cell_type": "code",
   "execution_count": null,
   "metadata": {},
   "outputs": [],
   "source": []
  }
 ],
 "metadata": {
  "kernelspec": {
   "display_name": "hejia@cori-2",
   "language": "python",
   "name": "hejia-2"
  },
  "language_info": {
   "codemirror_mode": {
    "name": "ipython",
    "version": 3
   },
   "file_extension": ".py",
   "mimetype": "text/x-python",
   "name": "python",
   "nbconvert_exporter": "python",
   "pygments_lexer": "ipython3",
   "version": "3.6.10"
  }
 },
 "nbformat": 4,
 "nbformat_minor": 4
}
