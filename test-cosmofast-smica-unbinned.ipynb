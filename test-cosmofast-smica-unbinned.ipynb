{
 "cells": [
  {
   "cell_type": "code",
   "execution_count": 1,
   "metadata": {},
   "outputs": [],
   "source": [
    "import cosmofast as cf\n",
    "from astropy.io import fits\n",
    "import numpy as np\n",
    "bins = fits.open('cosmofast/planck_18/data/legacy-smica/bins')\n",
    "cor0 = fits.open('cosmofast/planck_18/data/legacy-smica/cor0')\n",
    "cors = fits.open('cosmofast/planck_18/data/legacy-smica/cors')\n",
    "pp_hat = fits.open('cosmofast/planck_18/data/legacy-smica/pp_hat')\n",
    "siginv = fits.open('cosmofast/planck_18/data/legacy-smica/siginv')"
   ]
  },
  {
   "cell_type": "code",
   "execution_count": 2,
   "metadata": {},
   "outputs": [
    {
     "name": "stdout",
     "output_type": "stream",
     "text": [
      "Filename: cosmofast/planck_18/data/legacy-smica/bins\n",
      "No.    Name      Ver    Type      Cards   Dimensions   Format\n",
      "  0  PRIMARY       1 PrimaryHDU       5   (22509,)   float64   \n"
     ]
    }
   ],
   "source": [
    "bins.info()"
   ]
  },
  {
   "cell_type": "code",
   "execution_count": 3,
   "metadata": {},
   "outputs": [
    {
     "name": "stdout",
     "output_type": "stream",
     "text": [
      "Filename: cosmofast/planck_18/data/legacy-smica/cor0\n",
      "No.    Name      Ver    Type      Cards   Dimensions   Format\n",
      "  0  PRIMARY       1 PrimaryHDU       5   (9,)   float64   \n"
     ]
    }
   ],
   "source": [
    "cor0.info()"
   ]
  },
  {
   "cell_type": "code",
   "execution_count": 4,
   "metadata": {},
   "outputs": [
    {
     "name": "stdout",
     "output_type": "stream",
     "text": [
      "Filename: cosmofast/planck_18/data/legacy-smica/cors\n",
      "No.    Name      Ver    Type      Cards   Dimensions   Format\n",
      "  0  PRIMARY       1 PrimaryHDU       5   (90036,)   float64   \n"
     ]
    }
   ],
   "source": [
    "cors.info()"
   ]
  },
  {
   "cell_type": "code",
   "execution_count": 5,
   "metadata": {},
   "outputs": [
    {
     "name": "stdout",
     "output_type": "stream",
     "text": [
      "Filename: cosmofast/planck_18/data/legacy-smica/pp_hat\n",
      "No.    Name      Ver    Type      Cards   Dimensions   Format\n",
      "  0  PRIMARY       1 PrimaryHDU       5   (9,)   float64   \n"
     ]
    }
   ],
   "source": [
    "pp_hat.info()"
   ]
  },
  {
   "cell_type": "code",
   "execution_count": 6,
   "metadata": {},
   "outputs": [
    {
     "name": "stdout",
     "output_type": "stream",
     "text": [
      "Filename: cosmofast/planck_18/data/legacy-smica/siginv\n",
      "No.    Name      Ver    Type      Cards   Dimensions   Format\n",
      "  0  PRIMARY       1 PrimaryHDU       5   (81,)   float64   \n"
     ]
    }
   ],
   "source": [
    "siginv.info()"
   ]
  },
  {
   "cell_type": "code",
   "execution_count": 7,
   "metadata": {},
   "outputs": [],
   "source": [
    "F = np.zeros((9, 2501 * 4))\n",
    "F[:, :2501] += bins[0].data.reshape((9, 2501)) * (\n",
    "    np.arange(2501) * np.arange(2501) * np.arange(1, 2502) * np.arange(1, 2502)\n",
    "    / 2 / np.pi)[np.newaxis]\n",
    "F += cors[0].data.reshape((9, 10004)) * np.concatenate((\n",
    "    np.arange(2501) * np.arange(2501) * np.arange(1, 2502) * np.arange(1, 2502)\n",
    "    / 2 / np.pi,\n",
    "    np.arange(2501) * np.arange(1, 2502) / 2 / np.pi,\n",
    "    np.arange(2501) * np.arange(1, 2502) / 2 / np.pi,\n",
    "    np.arange(2501) * np.arange(1, 2502) / 2 / np.pi,))[np.newaxis]\n",
    "mu = cor0[0].data + pp_hat[0].data"
   ]
  },
  {
   "cell_type": "code",
   "execution_count": 8,
   "metadata": {},
   "outputs": [],
   "source": [
    "test_s = np.load(\"cosmofast/tests/test_smica.npz\")"
   ]
  },
  {
   "cell_type": "code",
   "execution_count": 10,
   "metadata": {},
   "outputs": [
    {
     "data": {
      "text/plain": [
       "(array([-4.41526344]), array([-4.41526344]))"
      ]
     },
     "execution_count": 10,
     "metadata": {},
     "output_type": "execute_result"
    }
   ],
   "source": [
    "# lensing, TT, EE, TE\n",
    "test = np.empty(1)\n",
    "cf.planck_18._smica._smica_f(\n",
    "    test_s['test_param'][:-1], test_s['test_param'][-1], test,\n",
    "    F,\n",
    "    mu,\n",
    "    siginv[0].data.byteswap().newbyteorder().reshape((9, 9)), 3, 2, 2500, 9)\n",
    "test, test_s['test_value']"
   ]
  },
  {
   "cell_type": "code",
   "execution_count": 11,
   "metadata": {},
   "outputs": [],
   "source": [
    "np.savez_compressed(\n",
    "    'cosmofast/planck_18/data/smica.npz', F=F, mu=mu,\n",
    "    siginv = siginv[0].data.byteswap().newbyteorder().reshape((9, 9)),\n",
    "    n_cmb=3, l_min=2, l_max=2500, n_bin=9)"
   ]
  },
  {
   "cell_type": "code",
   "execution_count": 1,
   "metadata": {},
   "outputs": [],
   "source": [
    "import cosmofast as cf\n",
    "import numpy as np\n",
    "f_smica = np.load('cosmofast/planck_18/data/smica.npz')\n",
    "test_smica = np.load(\"cosmofast/tests/test_smica.npz\")"
   ]
  },
  {
   "cell_type": "code",
   "execution_count": 2,
   "metadata": {},
   "outputs": [
    {
     "data": {
      "text/plain": [
       "(array([-4.41526344]), array([-4.41526344]))"
      ]
     },
     "execution_count": 2,
     "metadata": {},
     "output_type": "execute_result"
    }
   ],
   "source": [
    "# lensing, TT, EE, TE\n",
    "test = np.empty(1)\n",
    "cf.planck_18._smica._smica_f(\n",
    "    test_smica['test_param'][:-1], test_smica['test_param'][-1], test,\n",
    "    f_smica['F'],\n",
    "    f_smica['mu'],\n",
    "    f_smica['siginv'], f_smica['n_cmb'], f_smica['l_min'],\n",
    "    f_smica['l_max'], f_smica['n_bin'])\n",
    "test, test_smica['test_value']"
   ]
  },
  {
   "cell_type": "code",
   "execution_count": null,
   "metadata": {},
   "outputs": [],
   "source": []
  },
  {
   "cell_type": "code",
   "execution_count": null,
   "metadata": {},
   "outputs": [],
   "source": []
  },
  {
   "cell_type": "code",
   "execution_count": 1,
   "metadata": {},
   "outputs": [],
   "source": [
    "import cosmofast as cf\n",
    "from astropy.io import fits\n",
    "import numpy as np\n",
    "bins = fits.open('cosmofast/planck_18/data/legacy-smica-cmb-marged/bins')\n",
    "cor0 = fits.open('cosmofast/planck_18/data/legacy-smica-cmb-marged/cor0')\n",
    "cors = fits.open('cosmofast/planck_18/data/legacy-smica-cmb-marged/cors')\n",
    "pp_hat = fits.open('cosmofast/planck_18/data/legacy-smica-cmb-marged/pp_hat')\n",
    "siginv = fits.open('cosmofast/planck_18/data/legacy-smica-cmb-marged/siginv')"
   ]
  },
  {
   "cell_type": "code",
   "execution_count": 2,
   "metadata": {},
   "outputs": [
    {
     "name": "stdout",
     "output_type": "stream",
     "text": [
      "Filename: cosmofast/planck_18/data/legacy-smica-cmb-marged/bins\n",
      "No.    Name      Ver    Type      Cards   Dimensions   Format\n",
      "  0  PRIMARY       1 PrimaryHDU       5   (22509,)   float64   \n"
     ]
    }
   ],
   "source": [
    "bins.info()"
   ]
  },
  {
   "cell_type": "code",
   "execution_count": 3,
   "metadata": {},
   "outputs": [
    {
     "name": "stdout",
     "output_type": "stream",
     "text": [
      "Filename: cosmofast/planck_18/data/legacy-smica-cmb-marged/cor0\n",
      "No.    Name      Ver    Type      Cards   Dimensions   Format\n",
      "  0  PRIMARY       1 PrimaryHDU       5   (9,)   float64   \n"
     ]
    }
   ],
   "source": [
    "cor0.info()"
   ]
  },
  {
   "cell_type": "code",
   "execution_count": 4,
   "metadata": {},
   "outputs": [
    {
     "name": "stdout",
     "output_type": "stream",
     "text": [
      "Filename: cosmofast/planck_18/data/legacy-smica-cmb-marged/cors\n",
      "No.    Name      Ver    Type      Cards   Dimensions   Format\n",
      "  0  PRIMARY       1 PrimaryHDU       5   (22509,)   float64   \n"
     ]
    }
   ],
   "source": [
    "cors.info()"
   ]
  },
  {
   "cell_type": "code",
   "execution_count": 5,
   "metadata": {},
   "outputs": [
    {
     "name": "stdout",
     "output_type": "stream",
     "text": [
      "Filename: cosmofast/planck_18/data/legacy-smica-cmb-marged/pp_hat\n",
      "No.    Name      Ver    Type      Cards   Dimensions   Format\n",
      "  0  PRIMARY       1 PrimaryHDU       5   (9,)   float64   \n"
     ]
    }
   ],
   "source": [
    "pp_hat.info()"
   ]
  },
  {
   "cell_type": "code",
   "execution_count": 6,
   "metadata": {},
   "outputs": [
    {
     "name": "stdout",
     "output_type": "stream",
     "text": [
      "Filename: cosmofast/planck_18/data/legacy-smica-cmb-marged/siginv\n",
      "No.    Name      Ver    Type      Cards   Dimensions   Format\n",
      "  0  PRIMARY       1 PrimaryHDU       5   (81,)   float64   \n"
     ]
    }
   ],
   "source": [
    "siginv.info()"
   ]
  },
  {
   "cell_type": "code",
   "execution_count": 7,
   "metadata": {},
   "outputs": [],
   "source": [
    "F = np.zeros((9, 2501))\n",
    "F += bins[0].data.reshape((9, 2501)) * (\n",
    "    np.arange(2501) * np.arange(2501) * np.arange(1, 2502) * np.arange(1, 2502)\n",
    "    / 2 / np.pi)[np.newaxis]\n",
    "mu = cor0[0].data + pp_hat[0].data"
   ]
  },
  {
   "cell_type": "code",
   "execution_count": 8,
   "metadata": {},
   "outputs": [],
   "source": [
    "test_scm = np.load(\"cosmofast/tests/test_smica_cmb_marged.npz\")"
   ]
  },
  {
   "cell_type": "code",
   "execution_count": 9,
   "metadata": {},
   "outputs": [
    {
     "data": {
      "text/plain": [
       "(array([-8.23033182]), array([-8.23033182]))"
      ]
     },
     "execution_count": 9,
     "metadata": {},
     "output_type": "execute_result"
    }
   ],
   "source": [
    "# lensing\n",
    "test = np.empty(1)\n",
    "cf.planck_18._smica._smica_f(\n",
    "    test_scm['test_param'][:-1], test_scm['test_param'][-1], test,\n",
    "    F,\n",
    "    mu,\n",
    "    siginv[0].data.byteswap().newbyteorder().reshape((9, 9)), 0, 2, 2500, 9)\n",
    "test, test_scm['test_value']"
   ]
  },
  {
   "cell_type": "code",
   "execution_count": 10,
   "metadata": {},
   "outputs": [],
   "source": [
    "np.savez_compressed(\n",
    "    'cosmofast/planck_18/data/smica_cmb_marged.npz', F=F, mu=mu,\n",
    "    siginv = siginv[0].data.byteswap().newbyteorder().reshape((9, 9)),\n",
    "    n_cmb=0, l_min=2, l_max=2500, n_bin=9)"
   ]
  },
  {
   "cell_type": "code",
   "execution_count": 1,
   "metadata": {},
   "outputs": [],
   "source": [
    "import cosmofast as cf\n",
    "import numpy as np\n",
    "f_smica = np.load('cosmofast/planck_18/data/smica_cmb_marged.npz')\n",
    "test_smica = np.load(\"cosmofast/tests/test_smica_cmb_marged.npz\")"
   ]
  },
  {
   "cell_type": "code",
   "execution_count": 2,
   "metadata": {},
   "outputs": [
    {
     "data": {
      "text/plain": [
       "(array([-8.23033182]), array([-8.23033182]))"
      ]
     },
     "execution_count": 2,
     "metadata": {},
     "output_type": "execute_result"
    }
   ],
   "source": [
    "# lensing\n",
    "test = np.empty(1)\n",
    "cf.planck_18._smica._smica_f(\n",
    "    test_smica['test_param'][:-1], test_smica['test_param'][-1], test,\n",
    "    f_smica['F'],\n",
    "    f_smica['mu'],\n",
    "    f_smica['siginv'], f_smica['n_cmb'], f_smica['l_min'],\n",
    "    f_smica['l_max'], f_smica['n_bin'])\n",
    "test, test_smica['test_value']"
   ]
  },
  {
   "cell_type": "code",
   "execution_count": null,
   "metadata": {},
   "outputs": [],
   "source": []
  },
  {
   "cell_type": "code",
   "execution_count": null,
   "metadata": {},
   "outputs": [],
   "source": []
  }
 ],
 "metadata": {
  "kernelspec": {
   "display_name": "hejia@cori-2",
   "language": "python",
   "name": "hejia-2"
  },
  "language_info": {
   "codemirror_mode": {
    "name": "ipython",
    "version": 3
   },
   "file_extension": ".py",
   "mimetype": "text/x-python",
   "name": "python",
   "nbconvert_exporter": "python",
   "pygments_lexer": "ipython3",
   "version": "3.6.10"
  }
 },
 "nbformat": 4,
 "nbformat_minor": 4
}
